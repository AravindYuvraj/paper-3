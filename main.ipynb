{
 "cells": [
  {
   "cell_type": "code",
   "execution_count": 1,
   "id": "63e40ccc",
   "metadata": {},
   "outputs": [],
   "source": [
    "from langchain_community.document_loaders.csv_loader import CSVLoader"
   ]
  },
  {
   "cell_type": "code",
   "execution_count": 5,
   "id": "202cd146",
   "metadata": {},
   "outputs": [],
   "source": [
    "import os"
   ]
  },
  {
   "cell_type": "code",
   "execution_count": 6,
   "id": "d1a3226d",
   "metadata": {},
   "outputs": [],
   "source": [
    "if not os.environ.get(\"GOOGLE_API_KEY\"):\n",
    "  os.environ[\"GOOGLE_API_KEY\"] = getpass.getpass(\"Enter API key for Google Gemini: \")"
   ]
  },
  {
   "cell_type": "code",
   "execution_count": 18,
   "id": "3d84e17c",
   "metadata": {},
   "outputs": [],
   "source": [
    "from langchain.chat_models import init_chat_model\n",
    "llm = init_chat_model(\"gemini-2.5-flash\", model_provider=\"google_genai\")"
   ]
  },
  {
   "cell_type": "code",
   "execution_count": null,
   "id": "b16b2422",
   "metadata": {},
   "outputs": [],
   "source": []
  },
  {
   "cell_type": "code",
   "execution_count": 1,
   "id": "9312a648",
   "metadata": {},
   "outputs": [],
   "source": [
    "\n",
    "from langchain_google_genai import GoogleGenerativeAIEmbeddings\n",
    "\n",
    "embeddings = GoogleGenerativeAIEmbeddings(model=\"models/gemini-embedding-001\")"
   ]
  },
  {
   "cell_type": "code",
   "execution_count": 11,
   "id": "ca49a0fd",
   "metadata": {},
   "outputs": [],
   "source": [
    "from langchain_core.vectorstores import InMemoryVectorStore\n",
    "\n",
    "vector_store = InMemoryVectorStore(embeddings)"
   ]
  },
  {
   "cell_type": "code",
   "execution_count": 25,
   "id": "44f5ebb8",
   "metadata": {},
   "outputs": [],
   "source": [
    "from langchain_pinecone import PineconeVectorStore\n",
    "from pinecone import Pinecone\n",
    "\n",
    "pc = Pinecone(api_key=\"pcsk_DGoH9_EQWNu6rVQLcHaPAamQu8cCdKeqYywzxv5Nv4TcGEVZsf1ac6Nun7NwsGuCkFhow\")\n",
    "index = pc.Index(\"nutrition\")\n",
    "\n",
    "vector_store = PineconeVectorStore(embedding=embeddings, index=index)"
   ]
  },
  {
   "cell_type": "code",
   "execution_count": 15,
   "id": "8e4f0de7",
   "metadata": {},
   "outputs": [
    {
     "name": "stdout",
     "output_type": "stream",
     "text": [
      "page_content=': 0\n",
      "Unnamed: 0: 0\n",
      "food: cream cheese\n",
      "Caloric Value: 51\n",
      "Fat: 5\n",
      "Saturated Fats: 2.9\n",
      "Monounsaturated Fats: 1.3\n",
      "Polyunsaturated Fats: 0.2\n",
      "Carbohydrates: 0.8\n",
      "Sugars: 0.5\n",
      "Protein: 0.9\n",
      "Dietary Fiber: 0\n",
      "Cholesterol: 14.6\n",
      "Sodium: 0.016\n",
      "Water: 7.6\n",
      "Vitamin A: 0.2\n",
      "Vitamin B1: 0.033\n",
      "Vitamin B11: 0.064\n",
      "Vitamin B12: 0.092\n",
      "Vitamin B2: 0.097\n",
      "Vitamin B3: 0.084\n",
      "Vitamin B5: 0.052\n",
      "Vitamin B6: 0.096\n",
      "Vitamin C: 0.004\n",
      "Vitamin D: 0\n",
      "Vitamin E: 0\n",
      "Vitamin K: 0.1\n",
      "Calcium: 0.008\n",
      "Copper: 14.1\n",
      "Iron: 0.082\n",
      "Magnesium: 0.027\n",
      "Manganese: 1.3\n",
      "Phosphorus: 0.091\n",
      "Potassium: 15.5\n",
      "Selenium: 19.1\n",
      "Zinc: 0.039\n",
      "Nutrition Density: 7.07' metadata={'source': 'C:\\\\Users\\\\aravi\\\\Downloads\\\\archive (1)\\\\FINAL FOOD DATASET\\\\FOOD-DATA-GROUP1.csv', 'row': 0}\n",
      "************************************************\n",
      "Split data into 551 sub-documents.\n"
     ]
    }
   ],
   "source": [
    "from langchain_community.document_loaders.csv_loader import CSVLoader\n",
    "\n",
    "file_path = \"C:\\\\Users\\\\aravi\\\\Downloads\\\\archive (1)\\\\FINAL FOOD DATASET\\\\FOOD-DATA-GROUP1.csv\"\n",
    "\n",
    "loader = CSVLoader(file_path=file_path)\n",
    "data = loader.load()\n",
    "\n",
    "for record in data[:1]:\n",
    "    print(record)\n",
    "\n",
    "from langchain_text_splitters import RecursiveCharacterTextSplitter\n",
    "\n",
    "text_splitter = RecursiveCharacterTextSplitter(\n",
    "    chunk_size=1000,  \n",
    "    chunk_overlap=200, \n",
    "    add_start_index=True,  # track index in original document\n",
    ")\n",
    "all_splits = text_splitter.split_documents(data)\n",
    "\n",
    "print(\"************************************************\")\n",
    "print(f\"Split data into {len(all_splits)} sub-documents.\")\n",
    "\n"
   ]
  },
  {
   "cell_type": "code",
   "execution_count": 26,
   "id": "f0579eec",
   "metadata": {},
   "outputs": [
    {
     "name": "stdout",
     "output_type": "stream",
     "text": [
      "['7dedbb93-0b78-44fd-b999-874b2ffb874f', 'fdd60468-e227-423d-90e2-ad6c452fd9ee', '7ea1693f-d9ed-446e-ac00-4de66176fd9a']\n"
     ]
    }
   ],
   "source": [
    "document_ids = vector_store.add_documents(documents=all_splits)\n",
    "\n",
    "print(document_ids[:3])"
   ]
  },
  {
   "cell_type": "code",
   "execution_count": 5,
   "id": "2ad7d484",
   "metadata": {},
   "outputs": [
    {
     "name": "stderr",
     "output_type": "stream",
     "text": [
      "c:\\Users\\aravi\\Downloads\\PAPER 3\\.venv\\lib\\site-packages\\langsmith\\client.py:272: LangSmithMissingAPIKeyWarning: API key must be provided when using hosted LangSmith API\n",
      "  warnings.warn(\n"
     ]
    },
    {
     "name": "stdout",
     "output_type": "stream",
     "text": [
      "You are an assistant for question-answering tasks. Use the following pieces of retrieved context to answer the question. If you don't know the answer, just say that you don't know. Use three sentences maximum and keep the answer concise.\n",
      "Question: (question goes here) \n",
      "Context: (context goes here) \n",
      "Answer:\n"
     ]
    }
   ],
   "source": [
    "from langchain import hub\n",
    "\n",
    "prompt = hub.pull(\"rlm/rag-prompt\")\n",
    "\n",
    "example_messages = prompt.invoke(\n",
    "    {\"context\": \"(context goes here)\", \"question\": \"(question goes here)\"}\n",
    ").to_messages()\n",
    "\n",
    "assert len(example_messages) == 1\n",
    "print(example_messages[0].content)\n",
    "\n"
   ]
  },
  {
   "cell_type": "code",
   "execution_count": 6,
   "id": "1384e2af",
   "metadata": {},
   "outputs": [],
   "source": [
    "from langchain_core.documents import Document\n",
    "from typing_extensions import List, TypedDict\n",
    "\n",
    "\n",
    "class State(TypedDict):\n",
    "    question: str\n",
    "    context: List[Document]\n",
    "    answer: str"
   ]
  },
  {
   "cell_type": "code",
   "execution_count": 7,
   "id": "888870b5",
   "metadata": {},
   "outputs": [],
   "source": [
    "def retrieve(state: State):\n",
    "    retrieved_docs = vector_store.similarity_search(state[\"question\"])\n",
    "    return {\"context\": retrieved_docs}\n",
    "\n",
    "\n",
    "def generate(state: State):\n",
    "    docs_content = \"\\n\\n\".join(doc.page_content for doc in state[\"context\"])\n",
    "    messages = prompt.invoke({\"question\": state[\"question\"], \"context\": docs_content})\n",
    "    response = llm.invoke(messages)\n",
    "    return {\"answer\": response.content}"
   ]
  },
  {
   "cell_type": "code",
   "execution_count": 8,
   "id": "41e3e8b1",
   "metadata": {},
   "outputs": [],
   "source": [
    "from langgraph.graph import START, StateGraph\n",
    "\n",
    "graph_builder = StateGraph(State).add_sequence([retrieve, generate])\n",
    "graph_builder.add_edge(START, \"retrieve\")\n",
    "graph = graph_builder.compile()"
   ]
  },
  {
   "cell_type": "code",
   "execution_count": 9,
   "id": "fb75eec9",
   "metadata": {},
   "outputs": [
    {
     "data": {
      "image/png": "[encoded data removed]",
      "text/plain": [
       "<IPython.core.display.Image object>"
      ]
     },
     "metadata": {},
     "output_type": "display_data"
    }
   ],
   "source": [
    "from IPython.display import Image, display\n",
    "\n",
    "display(Image(graph.get_graph().draw_mermaid_png()))"
   ]
  },
  {
   "cell_type": "code",
   "execution_count": 27,
   "id": "45a2b05f",
   "metadata": {},
   "outputs": [
    {
     "name": "stdout",
     "output_type": "stream",
     "text": [
      "Context: [Document(id='7dedbb93-0b78-44fd-b999-874b2ffb874f', metadata={'row': 0.0, 'source': 'C:\\\\Users\\\\aravi\\\\Downloads\\\\archive (1)\\\\FINAL FOOD DATASET\\\\FOOD-DATA-GROUP1.csv', 'start_index': 0.0}, page_content=': 0\\nUnnamed: 0: 0\\nfood: cream cheese\\nCaloric Value: 51\\nFat: 5\\nSaturated Fats: 2.9\\nMonounsaturated Fats: 1.3\\nPolyunsaturated Fats: 0.2\\nCarbohydrates: 0.8\\nSugars: 0.5\\nProtein: 0.9\\nDietary Fiber: 0\\nCholesterol: 14.6\\nSodium: 0.016\\nWater: 7.6\\nVitamin A: 0.2\\nVitamin B1: 0.033\\nVitamin B11: 0.064\\nVitamin B12: 0.092\\nVitamin B2: 0.097\\nVitamin B3: 0.084\\nVitamin B5: 0.052\\nVitamin B6: 0.096\\nVitamin C: 0.004\\nVitamin D: 0\\nVitamin E: 0\\nVitamin K: 0.1\\nCalcium: 0.008\\nCopper: 14.1\\nIron: 0.082\\nMagnesium: 0.027\\nManganese: 1.3\\nPhosphorus: 0.091\\nPotassium: 15.5\\nSelenium: 19.1\\nZinc: 0.039\\nNutrition Density: 7.07'), Document(id='a3dbf7ea-bd4f-4418-bd19-e636401340a6', metadata={'row': 4.0, 'source': 'C:\\\\Users\\\\aravi\\\\Downloads\\\\archive (1)\\\\FINAL FOOD DATASET\\\\FOOD-DATA-GROUP1.csv', 'start_index': 0.0}, page_content=': 4\\nUnnamed: 0: 4\\nfood: cream cheese low fat\\nCaloric Value: 30\\nFat: 2.3\\nSaturated Fats: 1.4\\nMonounsaturated Fats: 0.6\\nPolyunsaturated Fats: 0.042\\nCarbohydrates: 1.2\\nSugars: 0.9\\nProtein: 1.2\\nDietary Fiber: 0\\nCholesterol: 8.1\\nSodium: 0.046\\nWater: 10\\nVitamin A: 0.016\\nVitamin B1: 0.080\\nVitamin B11: 0.062\\nVitamin B12: 0.049\\nVitamin B2: 0.026\\nVitamin B3: 0.080\\nVitamin B5: 0.1\\nVitamin B6: 0.003\\nVitamin C: 0\\nVitamin D: 0.036\\nVitamin E: 0.009\\nVitamin K: 0.019\\nCalcium: 22.2\\nCopper: 0.072\\nIron: 0.008\\nMagnesium: 1.2\\nManganese: 0.098\\nPhosphorus: 22.8\\nPotassium: 37.1\\nSelenium: 0.034\\nZinc: 0.053\\nNutrition Density: 27.007'), Document(id='1fe4393c-cfb4-4bd4-91c8-af49f5f6e66b', metadata={'row': 5.0, 'source': 'C:\\\\Users\\\\aravi\\\\Downloads\\\\archive (1)\\\\FINAL FOOD DATASET\\\\FOOD-DATA-GROUP1.csv', 'start_index': 0.0}, page_content=': 5\\nUnnamed: 0: 5\\nfood: cream cheese fat free\\nCaloric Value: 19\\nFat: 0.2\\nSaturated Fats: 0.1\\nMonounsaturated Fats: 0.091\\nPolyunsaturated Fats: 0.075\\nCarbohydrates: 1.4\\nSugars: 1\\nProtein: 2.8\\nDietary Fiber: 0\\nCholesterol: 2.2\\nSodium: 0.1\\nWater: 12.9\\nVitamin A: 0.063\\nVitamin B1: 0.020\\nVitamin B11: 0.089\\nVitamin B12: 0.092\\nVitamin B2: 0.021\\nVitamin B3: 0.025\\nVitamin B5: 0.2\\nVitamin B6: 0.038\\nVitamin C: 0\\nVitamin D: 0\\nVitamin E: 0.049\\nVitamin K: 0.059\\nCalcium: 63.2\\nCopper: 0.039\\nIron: 0.053\\nMagnesium: 4\\nManganese: 0.028\\nPhosphorus: 94.1\\nPotassium: 50\\nSelenium: 0.013\\nZinc: 0.3\\nNutrition Density: 67.679'), Document(id='063863fc-e897-40eb-bec6-689f4181549d', metadata={'row': 50.0, 'source': 'C:\\\\Users\\\\aravi\\\\Downloads\\\\archive (1)\\\\FINAL FOOD DATASET\\\\FOOD-DATA-GROUP1.csv', 'start_index': 0.0}, page_content=': 50\\nUnnamed: 0: 50\\nfood: american cheese spread\\nCaloric Value: 46\\nFat: 3.4\\nSaturated Fats: 2.1\\nMonounsaturated Fats: 1\\nPolyunsaturated Fats: 0.062\\nCarbohydrates: 1.4\\nSugars: 1.2\\nProtein: 2.6\\nDietary Fiber: 0\\nCholesterol: 8.8\\nSodium: 0.3\\nWater: 7.6\\nVitamin A: 0.043\\nVitamin B1: 0.012\\nVitamin B11: 0.066\\nVitamin B12: 0.022\\nVitamin B2: 0.076\\nVitamin B3: 0.089\\nVitamin B5: 0.1\\nVitamin B6: 0.086\\nVitamin C: 0\\nVitamin D: 0.014\\nVitamin E: 0.022\\nVitamin K: 0.046\\nCalcium: 89.9\\nCopper: 0.061\\nIron: 0.079\\nMagnesium: 4.6\\nManganese: 0.062\\nPhosphorus: 140\\nPotassium: 38.7\\nSelenium: 0.052\\nZinc: 0.4\\nNutrition Density: 97.357')]\n",
      "\n",
      "\n",
      "Answer: The nutrition density of cream cheese is 7.07. Cream cheese low fat has a nutrition density of 27.007, while cream cheese fat free has a nutrition density of 67.679.\n"
     ]
    }
   ],
   "source": [
    "result = graph.invoke({\"question\": \"what is the nutrition density of  cream cheese?\"})\n",
    "\n",
    "print(f\"Context: {result['context']}\\n\\n\")\n",
    "print(f\"Answer: {result['answer']}\")"
   ]
  },
  {
   "cell_type": "code",
   "execution_count": null,
   "id": "bd899d7a",
   "metadata": {},
   "outputs": [],
   "source": []
  }
 ],
 "metadata": {
  "kernelspec": {
   "display_name": "PAPER 3 (3.10.9)",
   "language": "python",
   "name": "python3"
  },
  "language_info": {
   "codemirror_mode": {
    "name": "ipython",
    "version": 3
   },
   "file_extension": ".py",
   "mimetype": "text/x-python",
   "name": "python",
   "nbconvert_exporter": "python",
   "pygments_lexer": "ipython3",
   "version": "3.10.9"
  }
 },
 "nbformat": 4,
 "nbformat_minor": 5
}
